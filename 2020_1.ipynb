{
 "cells": [
  {
   "cell_type": "code",
   "execution_count": 1,
   "metadata": {},
   "outputs": [
    {
     "name": "stdout",
     "output_type": "stream",
     "text": [
      "3\n"
     ]
    }
   ],
   "source": [
    "\"\"\"\n",
    "BIOINFORMATICS SCRATCH BOOK\n",
    "\"\"\"\n",
    "\n",
    "import re\n",
    "\n",
    "def PatternCount(pattern, string):\n",
    "    # (?=...):Matches if ... matches next, but doesn’t consume any of the string. This is called a lookahead assertion. \n",
    "    return len(re.findall(\"(?=%s)\" % pattern, string))\n",
    "\n",
    "print(PatternCount('ATA','CGATATATCCATAG'))\n",
    "\n"
   ]
  },
  {
   "cell_type": "code",
   "execution_count": 2,
   "metadata": {},
   "outputs": [
    {
     "data": {
      "text/plain": [
       "3"
      ]
     },
     "execution_count": 2,
     "metadata": {},
     "output_type": "execute_result"
    }
   ],
   "source": [
    "def base_pattern_count(text, pattern):\n",
    "    count = 0\n",
    "    for i in range(len(text)-len(pattern)+1):\n",
    "        if text[i:i+len(pattern)] == pattern:\n",
    "            count = count+1\n",
    "    return count\n",
    "\n",
    "base_pattern_count('CGATATATCCATAG', 'ATA')"
   ]
  },
  {
   "cell_type": "code",
   "execution_count": 4,
   "metadata": {},
   "outputs": [
    {
     "name": "stdout",
     "output_type": "stream",
     "text": [
      "['__doc__', '__loader__', '__name__', '__package__', '__spec__', 'acos', 'acosh', 'asin', 'asinh', 'atan', 'atan2', 'atanh', 'ceil', 'copysign', 'cos', 'cosh', 'degrees', 'e', 'erf', 'erfc', 'exp', 'expm1', 'fabs', 'factorial', 'floor', 'fmod', 'frexp', 'fsum', 'gamma', 'gcd', 'hypot', 'inf', 'isclose', 'isfinite', 'isinf', 'isnan', 'ldexp', 'lgamma', 'log', 'log10', 'log1p', 'log2', 'modf', 'nan', 'pi', 'pow', 'radians', 'remainder', 'sin', 'sinh', 'sqrt', 'tan', 'tanh', 'tau', 'trunc']\n"
     ]
    }
   ],
   "source": [
    "# Checking \n",
    "\n",
    "import math # Imports the math module\n",
    "everything = dir(math) # Sets everything to a list of things from math\n",
    "print(everything) # Prints 'em all!\n"
   ]
  },
  {
   "cell_type": "code",
   "execution_count": 5,
   "metadata": {},
   "outputs": [
    {
     "name": "stdout",
     "output_type": "stream",
     "text": [
      "['A', 'ASCII', 'DEBUG', 'DOTALL', 'I', 'IGNORECASE', 'L', 'LOCALE', 'M', 'MULTILINE', 'Match', 'Pattern', 'RegexFlag', 'S', 'Scanner', 'T', 'TEMPLATE', 'U', 'UNICODE', 'VERBOSE', 'X', '_MAXCACHE', '__all__', '__builtins__', '__cached__', '__doc__', '__file__', '__loader__', '__name__', '__package__', '__spec__', '__version__', '_cache', '_compile', '_compile_repl', '_expand', '_locale', '_pickle', '_special_chars_map', '_subx', 'compile', 'copyreg', 'enum', 'error', 'escape', 'findall', 'finditer', 'fullmatch', 'functools', 'match', 'purge', 'search', 'split', 'sre_compile', 'sre_parse', 'sub', 'subn', 'template']\n"
     ]
    }
   ],
   "source": [
    "re_list = dir(re)\n",
    "print(re_list)"
   ]
  },
  {
   "cell_type": "code",
   "execution_count": 6,
   "metadata": {},
   "outputs": [
    {
     "name": "stdout",
     "output_type": "stream",
     "text": [
      "8\n"
     ]
    }
   ],
   "source": [
    "#import re\n",
    "def genome_pattern_count(genome, pattern):\n",
    "    return len(re.findall(\"(?=%s)\" % pattern, genome))\n",
    "\n",
    "# genome is ori of Vibrio cholerae, and Pattern is \"TGATCA\"\n",
    "genome = \"ATCAATGATCAACGTAAGCTTCTAAGCATGATCAAGGTGCTCACACAGTTTATCCACAACCTGAGTGGATGACATCAAGATAGGTCGTTGTATCTCCTTCCTCTCGTACTCTCATGACCACGGAAAGATGATCAAGAGAGGATGATTTCTTGGCCATATCGCAATGAATACTTGTGACTTGTGCTTCCAATTGACATCTTCAGCGCCATATTGCGCTGGCCAAGGTGACGGAGCGGGATTACGAAAGCATGATCATGGCTGTTGTTCTGTTTATCTTGTTTTGACTGAGACTTGTTAGGATAGACGGTTTTTCATCACTGACTAGCCAAAGCCTTACTCTGCCTGACATCGACCGTAAATTGATAATGAATTTACATGCTTCCGCGACGATTTACCTCTTGATCATCGATCCGATTGAAGATCTTCAATTGTTAATTCTCTTGCCTCGACTCATAGCCATGATGAGCTCTTGATCATGTTTCCTTAACCCTCTATTTTTTACGGAAGAATGATCAAGCTGCTGCTCTTGATCATCGTTTC\"\n",
    "pattern = \"TGATCA\"\n",
    "\n",
    "print(genome_pattern_count(genome, pattern))\n"
   ]
  },
  {
   "cell_type": "code",
   "execution_count": 17,
   "metadata": {},
   "outputs": [
    {
     "name": "stdout",
     "output_type": "stream",
     "text": [
      "{'ATCAATGAT': 1, 'TCAATGATC': 1, 'CAATGATCA': 1, 'AATGATCAA': 2, 'ATGATCAAC': 1, 'TGATCAACG': 1, 'GATCAACGT': 1, 'ATCAACGTA': 1, 'TCAACGTAA': 1, 'CAACGTAAG': 1, 'AACGTAAGC': 1, 'ACGTAAGCT': 1, 'CGTAAGCTT': 1, 'GTAAGCTTC': 1, 'TAAGCTTCT': 1, 'AAGCTTCTA': 1, 'AGCTTCTAA': 1, 'GCTTCTAAG': 1, 'CTTCTAAGC': 1, 'TTCTAAGCA': 1, 'TCTAAGCAT': 1, 'CTAAGCATG': 1, 'TAAGCATGA': 1, 'AAGCATGAT': 2, 'AGCATGATC': 2, 'GCATGATCA': 2, 'CATGATCAA': 1, 'ATGATCAAG': 3, 'TGATCAAGG': 1, 'GATCAAGGT': 1, 'ATCAAGGTG': 1, 'TCAAGGTGC': 1, 'CAAGGTGCT': 1, 'AAGGTGCTC': 1, 'AGGTGCTCA': 1, 'GGTGCTCAC': 1, 'GTGCTCACA': 1, 'TGCTCACAC': 1, 'GCTCACACA': 1, 'CTCACACAG': 1, 'TCACACAGT': 1, 'CACACAGTT': 1, 'ACACAGTTT': 1, 'CACAGTTTA': 1, 'ACAGTTTAT': 1, 'CAGTTTATC': 1, 'AGTTTATCC': 1, 'GTTTATCCA': 1, 'TTTATCCAC': 1, 'TTATCCACA': 1, 'TATCCACAA': 1, 'ATCCACAAC': 1, 'TCCACAACC': 1, 'CCACAACCT': 1, 'CACAACCTG': 1, 'ACAACCTGA': 1, 'CAACCTGAG': 1, 'AACCTGAGT': 1, 'ACCTGAGTG': 1, 'CCTGAGTGG': 1, 'CTGAGTGGA': 1, 'TGAGTGGAT': 1, 'GAGTGGATG': 1, 'AGTGGATGA': 1, 'GTGGATGAC': 1, 'TGGATGACA': 1, 'GGATGACAT': 1, 'GATGACATC': 1, 'ATGACATCA': 1, 'TGACATCAA': 1, 'GACATCAAG': 1, 'ACATCAAGA': 1, 'CATCAAGAT': 1, 'ATCAAGATA': 1, 'TCAAGATAG': 1, 'CAAGATAGG': 1, 'AAGATAGGT': 1, 'AGATAGGTC': 1, 'GATAGGTCG': 1, 'ATAGGTCGT': 1, 'TAGGTCGTT': 1, 'AGGTCGTTG': 1, 'GGTCGTTGT': 1, 'GTCGTTGTA': 1, 'TCGTTGTAT': 1, 'CGTTGTATC': 1, 'GTTGTATCT': 1, 'TTGTATCTC': 1, 'TGTATCTCC': 1, 'GTATCTCCT': 1, 'TATCTCCTT': 1, 'ATCTCCTTC': 1, 'TCTCCTTCC': 1, 'CTCCTTCCT': 1, 'TCCTTCCTC': 1, 'CCTTCCTCT': 1, 'CTTCCTCTC': 1, 'TTCCTCTCG': 1, 'TCCTCTCGT': 1, 'CCTCTCGTA': 1, 'CTCTCGTAC': 1, 'TCTCGTACT': 1, 'CTCGTACTC': 1, 'TCGTACTCT': 1, 'CGTACTCTC': 1, 'GTACTCTCA': 1, 'TACTCTCAT': 1, 'ACTCTCATG': 1, 'CTCTCATGA': 1, 'TCTCATGAC': 1, 'CTCATGACC': 1, 'TCATGACCA': 1, 'CATGACCAC': 1, 'ATGACCACG': 1, 'TGACCACGG': 1, 'GACCACGGA': 1, 'ACCACGGAA': 1, 'CCACGGAAA': 1, 'CACGGAAAG': 1, 'ACGGAAAGA': 1, 'CGGAAAGAT': 1, 'GGAAAGATG': 1, 'GAAAGATGA': 1, 'AAAGATGAT': 1, 'AAGATGATC': 1, 'AGATGATCA': 1, 'GATGATCAA': 1, 'TGATCAAGA': 1, 'GATCAAGAG': 1, 'ATCAAGAGA': 1, 'TCAAGAGAG': 1, 'CAAGAGAGG': 1, 'AAGAGAGGA': 1, 'AGAGAGGAT': 1, 'GAGAGGATG': 1, 'AGAGGATGA': 1, 'GAGGATGAT': 1, 'AGGATGATT': 1, 'GGATGATTT': 1, 'GATGATTTC': 1, 'ATGATTTCT': 1, 'TGATTTCTT': 1, 'GATTTCTTG': 1, 'ATTTCTTGG': 1, 'TTTCTTGGC': 1, 'TTCTTGGCC': 1, 'TCTTGGCCA': 1, 'CTTGGCCAT': 1, 'TTGGCCATA': 1, 'TGGCCATAT': 1, 'GGCCATATC': 1, 'GCCATATCG': 1, 'CCATATCGC': 1, 'CATATCGCA': 1, 'ATATCGCAA': 1, 'TATCGCAAT': 1, 'ATCGCAATG': 1, 'TCGCAATGA': 1, 'CGCAATGAA': 1, 'GCAATGAAT': 1, 'CAATGAATA': 1, 'AATGAATAC': 1, 'ATGAATACT': 1, 'TGAATACTT': 1, 'GAATACTTG': 1, 'AATACTTGT': 1, 'ATACTTGTG': 1, 'TACTTGTGA': 1, 'ACTTGTGAC': 1, 'CTTGTGACT': 1, 'TTGTGACTT': 1, 'TGTGACTTG': 1, 'GTGACTTGT': 1, 'TGACTTGTG': 1, 'GACTTGTGC': 1, 'ACTTGTGCT': 1, 'CTTGTGCTT': 1, 'TTGTGCTTC': 1, 'TGTGCTTCC': 1, 'GTGCTTCCA': 1, 'TGCTTCCAA': 1, 'GCTTCCAAT': 1, 'CTTCCAATT': 1, 'TTCCAATTG': 1, 'TCCAATTGA': 1, 'CCAATTGAC': 1, 'CAATTGACA': 1, 'AATTGACAT': 1, 'ATTGACATC': 1, 'TTGACATCT': 1, 'TGACATCTT': 1, 'GACATCTTC': 1, 'ACATCTTCA': 1, 'CATCTTCAG': 1, 'ATCTTCAGC': 1, 'TCTTCAGCG': 1, 'CTTCAGCGC': 1, 'TTCAGCGCC': 1, 'TCAGCGCCA': 1, 'CAGCGCCAT': 1, 'AGCGCCATA': 1, 'GCGCCATAT': 1, 'CGCCATATT': 1, 'GCCATATTG': 1, 'CCATATTGC': 1, 'CATATTGCG': 1, 'ATATTGCGC': 1, 'TATTGCGCT': 1, 'ATTGCGCTG': 1, 'TTGCGCTGG': 1, 'TGCGCTGGC': 1, 'GCGCTGGCC': 1, 'CGCTGGCCA': 1, 'GCTGGCCAA': 1, 'CTGGCCAAG': 1, 'TGGCCAAGG': 1, 'GGCCAAGGT': 1, 'GCCAAGGTG': 1, 'CCAAGGTGA': 1, 'CAAGGTGAC': 1, 'AAGGTGACG': 1, 'AGGTGACGG': 1, 'GGTGACGGA': 1, 'GTGACGGAG': 1, 'TGACGGAGC': 1, 'GACGGAGCG': 1, 'ACGGAGCGG': 1, 'CGGAGCGGG': 1, 'GGAGCGGGA': 1, 'GAGCGGGAT': 1, 'AGCGGGATT': 1, 'GCGGGATTA': 1, 'CGGGATTAC': 1, 'GGGATTACG': 1, 'GGATTACGA': 1, 'GATTACGAA': 1, 'ATTACGAAA': 1, 'TTACGAAAG': 1, 'TACGAAAGC': 1, 'ACGAAAGCA': 1, 'CGAAAGCAT': 1, 'GAAAGCATG': 1, 'AAAGCATGA': 1, 'CATGATCAT': 1, 'ATGATCATG': 1, 'TGATCATGG': 1, 'GATCATGGC': 1, 'ATCATGGCT': 1, 'TCATGGCTG': 1, 'CATGGCTGT': 1, 'ATGGCTGTT': 1, 'TGGCTGTTG': 1, 'GGCTGTTGT': 1, 'GCTGTTGTT': 1, 'CTGTTGTTC': 1, 'TGTTGTTCT': 1, 'GTTGTTCTG': 1, 'TTGTTCTGT': 1, 'TGTTCTGTT': 1, 'GTTCTGTTT': 1, 'TTCTGTTTA': 1, 'TCTGTTTAT': 1, 'CTGTTTATC': 1, 'TGTTTATCT': 1, 'GTTTATCTT': 1, 'TTTATCTTG': 1, 'TTATCTTGT': 1, 'TATCTTGTT': 1, 'ATCTTGTTT': 1, 'TCTTGTTTT': 1, 'CTTGTTTTG': 1, 'TTGTTTTGA': 1, 'TGTTTTGAC': 1, 'GTTTTGACT': 1, 'TTTTGACTG': 1, 'TTTGACTGA': 1, 'TTGACTGAG': 1, 'TGACTGAGA': 1, 'GACTGAGAC': 1, 'ACTGAGACT': 1, 'CTGAGACTT': 1, 'TGAGACTTG': 1, 'GAGACTTGT': 1, 'AGACTTGTT': 1, 'GACTTGTTA': 1, 'ACTTGTTAG': 1, 'CTTGTTAGG': 1, 'TTGTTAGGA': 1, 'TGTTAGGAT': 1, 'GTTAGGATA': 1, 'TTAGGATAG': 1, 'TAGGATAGA': 1, 'AGGATAGAC': 1, 'GGATAGACG': 1, 'GATAGACGG': 1, 'ATAGACGGT': 1, 'TAGACGGTT': 1, 'AGACGGTTT': 1, 'GACGGTTTT': 1, 'ACGGTTTTT': 1, 'CGGTTTTTC': 1, 'GGTTTTTCA': 1, 'GTTTTTCAT': 1, 'TTTTTCATC': 1, 'TTTTCATCA': 1, 'TTTCATCAC': 1, 'TTCATCACT': 1, 'TCATCACTG': 1, 'CATCACTGA': 1, 'ATCACTGAC': 1, 'TCACTGACT': 1, 'CACTGACTA': 1, 'ACTGACTAG': 1, 'CTGACTAGC': 1, 'TGACTAGCC': 1, 'GACTAGCCA': 1, 'ACTAGCCAA': 1, 'CTAGCCAAA': 1, 'TAGCCAAAG': 1, 'AGCCAAAGC': 1, 'GCCAAAGCC': 1, 'CCAAAGCCT': 1, 'CAAAGCCTT': 1, 'AAAGCCTTA': 1, 'AAGCCTTAC': 1, 'AGCCTTACT': 1, 'GCCTTACTC': 1, 'CCTTACTCT': 1, 'CTTACTCTG': 1, 'TTACTCTGC': 1, 'TACTCTGCC': 1, 'ACTCTGCCT': 1, 'CTCTGCCTG': 1, 'TCTGCCTGA': 1, 'CTGCCTGAC': 1, 'TGCCTGACA': 1, 'GCCTGACAT': 1, 'CCTGACATC': 1, 'CTGACATCG': 1, 'TGACATCGA': 1, 'GACATCGAC': 1, 'ACATCGACC': 1, 'CATCGACCG': 1, 'ATCGACCGT': 1, 'TCGACCGTA': 1, 'CGACCGTAA': 1, 'GACCGTAAA': 1, 'ACCGTAAAT': 1, 'CCGTAAATT': 1, 'CGTAAATTG': 1, 'GTAAATTGA': 1, 'TAAATTGAT': 1, 'AAATTGATA': 1, 'AATTGATAA': 1, 'ATTGATAAT': 1, 'TTGATAATG': 1, 'TGATAATGA': 1, 'GATAATGAA': 1, 'ATAATGAAT': 1, 'TAATGAATT': 1, 'AATGAATTT': 1, 'ATGAATTTA': 1, 'TGAATTTAC': 1, 'GAATTTACA': 1, 'AATTTACAT': 1, 'ATTTACATG': 1, 'TTTACATGC': 1, 'TTACATGCT': 1, 'TACATGCTT': 1, 'ACATGCTTC': 1, 'CATGCTTCC': 1, 'ATGCTTCCG': 1, 'TGCTTCCGC': 1, 'GCTTCCGCG': 1, 'CTTCCGCGA': 1, 'TTCCGCGAC': 1, 'TCCGCGACG': 1, 'CCGCGACGA': 1, 'CGCGACGAT': 1, 'GCGACGATT': 1, 'CGACGATTT': 1, 'GACGATTTA': 1, 'ACGATTTAC': 1, 'CGATTTACC': 1, 'GATTTACCT': 1, 'ATTTACCTC': 1, 'TTTACCTCT': 1, 'TTACCTCTT': 1, 'TACCTCTTG': 1, 'ACCTCTTGA': 1, 'CCTCTTGAT': 1, 'CTCTTGATC': 3, 'TCTTGATCA': 3, 'CTTGATCAT': 3, 'TTGATCATC': 2, 'TGATCATCG': 2, 'GATCATCGA': 1, 'ATCATCGAT': 1, 'TCATCGATC': 1, 'CATCGATCC': 1, 'ATCGATCCG': 1, 'TCGATCCGA': 1, 'CGATCCGAT': 1, 'GATCCGATT': 1, 'ATCCGATTG': 1, 'TCCGATTGA': 1, 'CCGATTGAA': 1, 'CGATTGAAG': 1, 'GATTGAAGA': 1, 'ATTGAAGAT': 1, 'TTGAAGATC': 1, 'TGAAGATCT': 1, 'GAAGATCTT': 1, 'AAGATCTTC': 1, 'AGATCTTCA': 1, 'GATCTTCAA': 1, 'ATCTTCAAT': 1, 'TCTTCAATT': 1, 'CTTCAATTG': 1, 'TTCAATTGT': 1, 'TCAATTGTT': 1, 'CAATTGTTA': 1, 'AATTGTTAA': 1, 'ATTGTTAAT': 1, 'TTGTTAATT': 1, 'TGTTAATTC': 1, 'GTTAATTCT': 1, 'TTAATTCTC': 1, 'TAATTCTCT': 1, 'AATTCTCTT': 1, 'ATTCTCTTG': 1, 'TTCTCTTGC': 1, 'TCTCTTGCC': 1, 'CTCTTGCCT': 1, 'TCTTGCCTC': 1, 'CTTGCCTCG': 1, 'TTGCCTCGA': 1, 'TGCCTCGAC': 1, 'GCCTCGACT': 1, 'CCTCGACTC': 1, 'CTCGACTCA': 1, 'TCGACTCAT': 1, 'CGACTCATA': 1, 'GACTCATAG': 1, 'ACTCATAGC': 1, 'CTCATAGCC': 1, 'TCATAGCCA': 1, 'CATAGCCAT': 1, 'ATAGCCATG': 1, 'TAGCCATGA': 1, 'AGCCATGAT': 1, 'GCCATGATG': 1, 'CCATGATGA': 1, 'CATGATGAG': 1, 'ATGATGAGC': 1, 'TGATGAGCT': 1, 'GATGAGCTC': 1, 'ATGAGCTCT': 1, 'TGAGCTCTT': 1, 'GAGCTCTTG': 1, 'AGCTCTTGA': 1, 'GCTCTTGAT': 2, 'TTGATCATG': 1, 'TGATCATGT': 1, 'GATCATGTT': 1, 'ATCATGTTT': 1, 'TCATGTTTC': 1, 'CATGTTTCC': 1, 'ATGTTTCCT': 1, 'TGTTTCCTT': 1, 'GTTTCCTTA': 1, 'TTTCCTTAA': 1, 'TTCCTTAAC': 1, 'TCCTTAACC': 1, 'CCTTAACCC': 1, 'CTTAACCCT': 1, 'TTAACCCTC': 1, 'TAACCCTCT': 1, 'AACCCTCTA': 1, 'ACCCTCTAT': 1, 'CCCTCTATT': 1, 'CCTCTATTT': 1, 'CTCTATTTT': 1, 'TCTATTTTT': 1, 'CTATTTTTT': 1, 'TATTTTTTA': 1, 'ATTTTTTAC': 1, 'TTTTTTACG': 1, 'TTTTTACGG': 1, 'TTTTACGGA': 1, 'TTTACGGAA': 1, 'TTACGGAAG': 1, 'TACGGAAGA': 1, 'ACGGAAGAA': 1, 'CGGAAGAAT': 1, 'GGAAGAATG': 1, 'GAAGAATGA': 1, 'AAGAATGAT': 1, 'AGAATGATC': 1, 'GAATGATCA': 1, 'TGATCAAGC': 1, 'GATCAAGCT': 1, 'ATCAAGCTG': 1, 'TCAAGCTGC': 1, 'CAAGCTGCT': 1, 'AAGCTGCTG': 1, 'AGCTGCTGC': 1, 'GCTGCTGCT': 1, 'CTGCTGCTC': 1, 'TGCTGCTCT': 1, 'GCTGCTCTT': 1, 'CTGCTCTTG': 1, 'TGCTCTTGA': 1, 'GATCATCGT': 1, 'ATCATCGTT': 1, 'TCATCGTTT': 1, 'CATCGTTTC': 1}\n",
      "517\n",
      "['ATGATCAAG', 'CTCTTGATC', 'TCTTGATCA', 'CTTGATCAT']\n"
     ]
    }
   ],
   "source": [
    "# Input:  A string Text (genome) and an integer k (length of 'mer')\n",
    "# Output: A list containing all most frequent k-mers in Text\n",
    "\n",
    "#\n",
    "def frequent_words(genome, k):\n",
    "    words = []\n",
    "    freq = frequency_map(genome, k)\n",
    "    m = max(freq.values())\n",
    "    for key in freq:\n",
    "        # add each key to words whose frequency value is equal to m\n",
    "        if freq[key] == m:   \n",
    "            words.append(key)\n",
    "    return words\n",
    "\n",
    "\n",
    "# \n",
    "def frequency_map(genome, k):\n",
    "    freq = {}\n",
    "    n = len(genome)\n",
    "    for i in range(n-k+1):\n",
    "        pattern = genome[i:i+k]\n",
    "        freq[pattern] = 0\n",
    "        # frequency map\n",
    "        for i in range(n-k+1):\n",
    "            if pattern == genome[i:i+k]:\n",
    "                freq[pattern] += 1\n",
    "    return freq\n",
    "\n",
    "k=9\n",
    "\n",
    "print(frequency_map(genome, k))\n",
    "\n",
    "print(len(frequency_map(genome, k)))\n",
    "\n",
    "print(frequent_words(genome, k))\n"
   ]
  },
  {
   "cell_type": "code",
   "execution_count": 14,
   "metadata": {},
   "outputs": [
    {
     "name": "stdout",
     "output_type": "stream",
     "text": [
      "[('ATGATCAAG', 3), ('CTCTTGATC', 3), ('TCTTGATCA', 3), ('CTTGATCAT', 3), ('AATGATCAA', 2), ('AAGCATGAT', 2), ('AGCATGATC', 2), ('GCATGATCA', 2), ('TTGATCATC', 2), ('TGATCATCG', 2), ('GCTCTTGAT', 2), ('ATCAATGAT', 1), ('TCAATGATC', 1), ('CAATGATCA', 1), ('ATGATCAAC', 1)]\n"
     ]
    }
   ],
   "source": [
    "# sort frequency map by occurences\n",
    "\n",
    "def sorted_frequency_map(genome, k):\n",
    "    freq = frequency_map(genome, k)\n",
    "    return {k: v for k, v in sorted(freq.items(), key=lambda item: item[1], reverse = True)}\n",
    "\n",
    "#print(sorted_frequency_map(genome, k))\n",
    "\n",
    "# print first 15 entries:\n",
    "from itertools import islice\n",
    "\n",
    "def take(n, iterable):\n",
    "    \"Return first n items of the iterable as a list\"\n",
    "    return list(islice(iterable, n))\n",
    "\n",
    "sorted_frequency_dictionary = sorted_frequency_map(genome, k)\n",
    "n = 15\n",
    "top_entries = take(n, sorted_frequency_dictionary.items())\n",
    "print(top_entries)"
   ]
  },
  {
   "cell_type": "code",
   "execution_count": 19,
   "metadata": {},
   "outputs": [
    {
     "name": "stdout",
     "output_type": "stream",
     "text": [
      "Reverse complement of \"ATGATCAAG\" is:  CTTGATCAT\n",
      "Reverse complement of \"CTCTTGATC\" is:  GATCAAGAG\n"
     ]
    }
   ],
   "source": [
    "# Input:  A DNA string Pattern\n",
    "# Output: The reverse complement of Pattern\n",
    "\n",
    "def reverse_complement(DNA_pattern):   \n",
    "    DNA_pattern = reverse_bases(DNA_pattern) # reverse all letters in a string\n",
    "    DNA_pattern = complement_bases(DNA_pattern) # complement each letter in a string\n",
    "    return DNA_pattern\n",
    "\n",
    "def reverse_bases(DNA_pattern):\n",
    "    return DNA_pattern[::-1]\n",
    "\n",
    "def complement_bases(DNA_pattern):\n",
    "    basepairs = {\"A\":\"T\", \"G\":\"C\", \"T\":\"A\", \"C\":\"G\"}\n",
    "    complement = \"\"\n",
    "    for base in DNA_pattern:\n",
    "        complement += basepairs.get(base)\n",
    "    return complement\n",
    "\n",
    "\n",
    "DNA_pattern = \"ATGATCAAG\"\n",
    "print(\"Reverse complement of \\\"ATGATCAAG\\\" is: \", reverse_complement(DNA_pattern))\n",
    "DNA_pattern = \"CTCTTGATC\"\n",
    "print(\"Reverse complement of \\\"CTCTTGATC\\\" is: \", reverse_complement(DNA_pattern))"
   ]
  },
  {
   "cell_type": "code",
   "execution_count": 20,
   "metadata": {},
   "outputs": [
    {
     "name": "stdout",
     "output_type": "stream",
     "text": [
      "ATGATCAAG positions:  [27, 127, 508]\n",
      "CTTGATCAT positions:  [397, 468, 525]\n"
     ]
    }
   ],
   "source": [
    "\n",
    "def pattern_positions(pattern, genome):\n",
    "    positions = []\n",
    "    for i in range(len(genome)-len(pattern)+1):\n",
    "        if genome[i:i+len(pattern)] == pattern:\n",
    "            positions.append(i)\n",
    "    return positions\n",
    "\n",
    "print(\"ATGATCAAG positions: \", pattern_positions(\"ATGATCAAG\", genome))\n",
    "print(\"CTTGATCAT positions: \", pattern_positions(\"CTTGATCAT\", genome))"
   ]
  },
  {
   "cell_type": "code",
   "execution_count": 23,
   "metadata": {},
   "outputs": [
    {
     "name": "stdout",
     "output_type": "stream",
     "text": [
      "\"ATGATCAAG\" occurs:  0\n",
      "\"CTTGATCAT\" occurs:  0\n"
     ]
    }
   ],
   "source": [
    "# oriC region from T petrophila\n",
    "ori_t_petrophila = \"aactctatacctcctttttgtcgaatttgtgtgatttatagagaaaatcttattaactgaaactaaaatggtaggtttggtggtaggttttgtgtacattttgtagtatctgatttttaattacataccgtatattgtattaaattgacgaacaattgcatggaattgaatatatgcaaaacaaacctaccaccaaactctgtattgaccattttaggacaacttcagggtggtaggtttctgaagctctcatcaatagactattttagtctttacaaacaatattaccgttcagattcaagattctacaacgctgttttaatgggcgttgcagaaaacttaccacctaaaatccagtatccaagccgatttcagagaaacctaccacttacctaccacttacctaccacccgggtggtaagttgcagacattattaaaaacctcatcagaagcttgttcaaaaatttcaatactcgaaacctaccacctgcgtcccctattatttactactactaataatagcagtataattgatctga\"\n",
    "\n",
    "count_1 = base_pattern_count(ori_t_petrophila, \"atgatcaag\")\n",
    "count_2 = base_pattern_count(ori_t_petrophila, \"cttgatcat\")\n",
    "\n",
    "print(\"\\\"ATGATCAAG\\\" occurs: \", count_1)\n",
    "print(\"\\\"CTTGATCAT\\\" occurs: \", count_2)\n"
   ]
  },
  {
   "cell_type": "code",
   "execution_count": null,
   "metadata": {},
   "outputs": [],
   "source": [
    "\"\"\"\n",
    "Clump Finding Problem: Find patterns forming clumps in a string.\n",
    "Input: A string Genome, and integers k, L, and t.\n",
    "Output: All distinct k-mers forming (L, t)-clumps in Genome.\n",
    "\n",
    "\n",
    "\"\"\""
   ]
  }
 ],
 "metadata": {
  "kernelspec": {
   "display_name": "Python 3",
   "language": "python",
   "name": "python3"
  },
  "language_info": {
   "codemirror_mode": {
    "name": "ipython",
    "version": 3
   },
   "file_extension": ".py",
   "mimetype": "text/x-python",
   "name": "python",
   "nbconvert_exporter": "python",
   "pygments_lexer": "ipython3",
   "version": "3.7.6"
  }
 },
 "nbformat": 4,
 "nbformat_minor": 4
}
