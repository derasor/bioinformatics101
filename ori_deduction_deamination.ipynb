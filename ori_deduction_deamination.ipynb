{
 "cells": [
  {
   "cell_type": "code",
   "execution_count": 1,
   "metadata": {},
   "outputs": [
    {
     "name": "stdout",
     "output_type": "stream",
     "text": [
      "Toy example:  {0: 4, 1: 3, 2: 2, 3: 1, 4: 0, 5: 1, 6: 2, 7: 3}\n"
     ]
    },
    {
     "data": {
      "text/plain": [
       "'\\n\\nf = open(\\'E_coli.txt\\', \\'r\\')\\ne_coli_genome = f.read()\\nsymbol = \"C\"\\n\\nfrom datetime import datetime\\nstartTime = datetime.now()\\n\\nprint(\"Symbol array for genome equal to the E. coli genome and symbol equal to \"C\"\", slow_symbol_array(e_coli_genome, symbol))\\n\\nprint(datetime.now() - startTime)\\n\\nf.close()\\n'"
      ]
     },
     "execution_count": 1,
     "metadata": {},
     "output_type": "execute_result"
    }
   ],
   "source": [
    "# from before\n",
    "\n",
    "def pattern_count(symbol, genome):\n",
    "    count = 0\n",
    "    for i in range(len(genome)-len(symbol)+1):\n",
    "        if genome[i:i+len(symbol)] == symbol:\n",
    "            count = count+1\n",
    "    return count\n",
    "\n",
    "\n",
    "# Number of occurrences of C (base) in a window of extended_genome\n",
    "\n",
    "def slow_symbol_array(genome, symbol):\n",
    "    array = {}\n",
    "    n = len(genome)\n",
    "    extended_genome = genome + genome[0:n//2]\n",
    "    for i in range(n):\n",
    "        array[i] = pattern_count(symbol, extended_genome[i:i+(n//2)])\n",
    "    return array\n",
    "\n",
    "print(\"Toy example: \", slow_symbol_array(\"AAAAGGGG\", \"A\"))\n",
    "\n",
    "# Genome equal to the E. coli genome and symbol equal to \"C\"\n",
    "\n",
    "\"\"\"\n",
    "Why is slow_symbol_array inefficient? Its for loop makes n = len(genome) iterations. \n",
    "Then, to compute pattern_count(symbol, extended_genome[i:i+(n//2)]), \n",
    "we must compare symbol against n//2 symbols of extended_genome. \n",
    "As a result, we require a total of n2//2 comparisons to execute slow_symbol_array(genome, symbol). \n",
    "For a bacterial genome such as E. coli, which contains over 4.5 million nucleotides, \n",
    "we will need to execute over ten trillion symbol comparisons in order to generate a symbol array, \n",
    "which could take several days on a fast home computer operating several million comparisons per second.\n",
    "\"\"\"\n",
    "\n",
    "'''\n",
    "\n",
    "f = open('E_coli.txt', 'r')\n",
    "e_coli_genome = f.read()\n",
    "symbol = \"C\"\n",
    "\n",
    "from datetime import datetime\n",
    "startTime = datetime.now()\n",
    "\n",
    "print(\"Symbol array for genome equal to the E. coli genome and symbol equal to \\\"C\\\"\", slow_symbol_array(e_coli_genome, symbol))\n",
    "\n",
    "print(datetime.now() - startTime)\n",
    "\n",
    "f.close()\n",
    "'''"
   ]
  },
  {
   "cell_type": "code",
   "execution_count": 2,
   "metadata": {},
   "outputs": [
    {
     "name": "stdout",
     "output_type": "stream",
     "text": [
      "Time to comb through E. Coli genome:  0:00:03.407907\n",
      "First entry on symbol array for genome equal to the E. coli genome and symbol equal to \"C\":  579589\n",
      "Length of symbol array of E. Coli genome:  4639675\n"
     ]
    }
   ],
   "source": [
    "\"\"\"\n",
    "Solution: Generate a symbol array using only one pass down ExtendedGenome and therefore only n+(n//2) total symbol comparisons\n",
    "\"\"\"\n",
    "\n",
    "def symbol_array(genome, symbol):\n",
    "    array = {}\n",
    "    n = len(genome)\n",
    "    extended_genome = genome + genome[0:n//2]\n",
    "\n",
    "    # look at the first half of Genome to compute first array value\n",
    "    array[0] = pattern_count(symbol, genome[0:n//2])\n",
    "\n",
    "    for i in range(1, n):\n",
    "        # start by setting the current array value equal to the previous array value\n",
    "        array[i] = array[i-1]\n",
    "\n",
    "        # the current array value can differ from the previous array value by at most 1\n",
    "        if extended_genome[i-1] == symbol:\n",
    "            array[i] = array[i]-1\n",
    "        if extended_genome[i+(n//2)-1] == symbol:\n",
    "            array[i] = array[i]+1\n",
    "    return array\n",
    "\n",
    "\n",
    "with open('E_coli.txt') as file:\n",
    "    e_coli = file.read();\n",
    "\n",
    "symbol = \"C\"\n",
    "\n",
    "from datetime import datetime\n",
    "startTime = datetime.now()\n",
    "array = symbol_array(e_coli, symbol)\n",
    "print(\"Time to comb through E. Coli genome: \", datetime.now() - startTime)\n",
    "\n",
    "print(\"First entry on symbol array for genome equal to the E. coli genome and symbol equal to \\\"C\\\": \", array[0])\n",
    "print(\"Length of symbol array of E. Coli genome: \", len(array))\n"
   ]
  },
  {
   "cell_type": "code",
   "execution_count": 10,
   "metadata": {},
   "outputs": [
    {
     "data": {
      "image/png": "[encoded data removed]",
      "text/plain": [
       "<Figure size 432x288 with 1 Axes>"
      ]
     },
     "metadata": {
      "needs_background": "light"
     },
     "output_type": "display_data"
    }
   ],
   "source": [
    "\"\"\"\n",
    "The maximum value of the array occurs around position 1600000, \n",
    "and the minimum value of the array occurs around position 4000000. \n",
    "We can therefore infer that the reverse half-strand begins around position 1600000, \n",
    "and that the forward half-strand begins around position 4000000. \n",
    "Because we know that ori occurs where the reverse half-strand transitions to the forward half-strand, \n",
    "we have discovered that ori is located in the neighborhood of position 4000000 of the E. coli genome\n",
    "\"\"\"\n",
    "\n",
    "\n",
    "with open('E_coli.txt') as file:\n",
    "    e_coli = file.read();\n",
    "\n",
    "array = symbol_array(e_coli, \"C\")\n",
    "\n",
    "import matplotlib.pyplot as plt\n",
    "plt.plot(*zip(*sorted(array.items())))\n",
    "plt.show()"
   ]
  },
  {
   "cell_type": "code",
   "execution_count": 4,
   "metadata": {},
   "outputs": [
    {
     "name": "stdout",
     "output_type": "stream",
     "text": [
      "Time to range E. Coli genome:  0:00:01.568481\n",
      "-2631\n"
     ]
    }
   ],
   "source": [
    "\n",
    "# Input:  A String Genome\n",
    "# Output: The skew array of Genome as a list.\n",
    "def skew_array(genome):\n",
    "    # your code here\n",
    "    skew = [0] * (len(genome)+1)\n",
    "    for i, e in enumerate(genome):\n",
    "        if genome[i] == 'A' or genome[i] == 'T':\n",
    "            skew[i+1] = skew[i]            \n",
    "        elif genome[i] == 'G':\n",
    "            skew[i+1] = skew[i] + 1\n",
    "        elif genome[i] == 'C':\n",
    "            skew[i+1] = skew[i] - 1\n",
    "        else:\n",
    "            return \"ERROR: Encountered a non-valid base.\"\n",
    "    return skew\n",
    "\n",
    "with open('E_coli.txt') as file:\n",
    "    e_coli_genome = file.read();\n",
    "\n",
    "from datetime import datetime\n",
    "startTime = datetime.now()\n",
    "skew_array_e_coli = skew_array(e_coli_genome)\n",
    "print(\"Time to range E. Coli genome: \", datetime.now() - startTime)\n",
    "\n",
    "# Get last value\n",
    "print(skew_array_e_coli[-1])"
   ]
  },
  {
   "cell_type": "code",
   "execution_count": 5,
   "metadata": {},
   "outputs": [
    {
     "name": "stdout",
     "output_type": "stream",
     "text": [
      "Time to range E. Coli genome:  0:00:01.645668\n",
      "-2631\n"
     ]
    }
   ],
   "source": [
    "# Alternative:\n",
    "\n",
    "def skew(genome):\n",
    "    g_minus_c_score = [0]\n",
    "    count_dict = {\"A\":0, \"T\":0, \"C\":-1, \"G\":1}\n",
    "    for i in range(1,len(genome)+1):\n",
    "            g_minus_c_score.append(count_dict[genome[i-1]] + g_minus_c_score[i-1])\n",
    "    return g_minus_c_score\n",
    "\n",
    "with open('E_coli.txt') as file:\n",
    "    e_coli_genome = file.read();\n",
    "\n",
    "from datetime import datetime\n",
    "startTime = datetime.now()\n",
    "skew_e_coli = skew(e_coli_genome)\n",
    "print(\"Time to range E. Coli genome: \", datetime.now() - startTime)\n",
    "\n",
    "# Get last value\n",
    "print(skew_e_coli[-1])"
   ]
  },
  {
   "cell_type": "code",
   "execution_count": 15,
   "metadata": {},
   "outputs": [
    {
     "data": {
      "image/png": "[encoded data removed]",
      "text/plain": [
       "<Figure size 432x288 with 1 Axes>"
      ]
     },
     "metadata": {
      "needs_background": "light"
     },
     "output_type": "display_data"
    },
    {
     "data": {
      "image/png": "[encoded data removed]",
      "text/plain": [
       "<Figure size 432x288 with 1 Axes>"
      ]
     },
     "metadata": {
      "needs_background": "light"
     },
     "output_type": "display_data"
    },
    {
     "data": {
      "image/png": "[encoded data removed]",
      "text/plain": [
       "<Figure size 432x288 with 1 Axes>"
      ]
     },
     "metadata": {
      "needs_background": "light"
     },
     "output_type": "display_data"
    },
    {
     "data": {
      "image/png": "[encoded data removed]",
      "text/plain": [
       "<Figure size 432x288 with 1 Axes>"
      ]
     },
     "metadata": {
      "needs_background": "light"
     },
     "output_type": "display_data"
    },
    {
     "data": {
      "image/png": "[encoded data removed]",
      "text/plain": [
       "<Figure size 432x288 with 1 Axes>"
      ]
     },
     "metadata": {
      "needs_background": "light"
     },
     "output_type": "display_data"
    },
    {
     "name": "stdout",
     "output_type": "stream",
     "text": [
      "Time to plot E. Coli genome skew array:  0:00:01.579527\n"
     ]
    }
   ],
   "source": [
    "# Plot skew diagram:\n",
    "import matplotlib.pyplot as plt\n",
    "\n",
    "# Only last 100 items\n",
    "plt.plot(skew_array_e_coli[-100:], marker='o')\n",
    "plt.title('Last 100 bases')\n",
    "plt.show()\n",
    "\n",
    "# Only last 1000 items\n",
    "plt.plot(skew_array_e_coli[-1000:], marker='o')\n",
    "plt.title('Last 1000 bases')\n",
    "plt.show()\n",
    "\n",
    "# Last 10000 items\n",
    "plt.plot(skew_array_e_coli[-10000:])\n",
    "plt.title('Last 10000 bases')\n",
    "plt.show()\n",
    "\n",
    "# First 10000 items\n",
    "plt.plot(skew_array_e_coli[:10000])\n",
    "plt.title('First 10000 bases')\n",
    "plt.show()\n",
    "\n",
    "# All\n",
    "from datetime import datetime\n",
    "startTime = datetime.now()\n",
    "\n",
    "plt.plot(skew_array_e_coli)\n",
    "plt.title('Skew array fo E. Coli')\n",
    "plt.show()\n",
    "\n",
    "print(\"Time to plot E. Coli genome skew array: \", datetime.now() - startTime)\n"
   ]
  },
  {
   "cell_type": "code",
   "execution_count": 17,
   "metadata": {},
   "outputs": [
    {
     "name": "stdout",
     "output_type": "stream",
     "text": [
      "Maximum skew position:  1550413\n",
      "Minimum skew position:  3923620\n"
     ]
    }
   ],
   "source": [
    "# E. coli achieves maximum and minimum skew positions \n",
    "print(\"Maximum skew position: \", skew_array_e_coli.index(max(skew_array_e_coli)))\n",
    "print(\"Minimum skew position: \", skew_array_e_coli.index(min(skew_array_e_coli)))\n",
    "\n",
    "\"\"\"\n",
    "Forward (lagging) => difference between G and C decreases \n",
    "Reverse (leading) => difference between G and C increases\n",
    "\n",
    "Therefore, Ori islocated at position 3923620 (whre the difference between G and C stops decreasing and it starts increasing)\n",
    "\n",
    "Ori -> Min of skew array\n",
    "\"\"\""
   ]
  },
  {
   "cell_type": "code",
   "execution_count": 21,
   "metadata": {},
   "outputs": [
    {
     "data": {
      "image/png": "[encoded data removed]",
      "text/plain": [
       "<Figure size 432x288 with 1 Axes>"
      ]
     },
     "metadata": {
      "needs_background": "light"
     },
     "output_type": "display_data"
    },
    {
     "name": "stdout",
     "output_type": "stream",
     "text": [
      "Toy example:  [11, 24]\n",
      "Minimum values for difference between G and C in E. Coli genome:  [3923620, 3923621, 3923622, 3923623]\n"
     ]
    }
   ],
   "source": [
    "def min_skew(genome):\n",
    "    min_positions = []\n",
    "    skew = skew_array(genome)\n",
    "    min_skew_array = min(skew)\n",
    "    for i, e in enumerate(skew):\n",
    "        if e == min_skew_array:\n",
    "            min_positions.append(i)\n",
    "    return min_positions\n",
    "\n",
    "\n",
    "plt.plot(skew_array(\"TAAAGACTGCCGAGAGGCCAACACGAGTGCTAGAACGAGGGGCGTAAACGCGGGTCCGAT\"))\n",
    "plt.title('Toy Example')\n",
    "plt.show()\n",
    "print(\"Toy example: \", min_skew(\"TAAAGACTGCCGAGAGGCCAACACGAGTGCTAGAACGAGGGGCGTAAACGCGGGTCCGAT\"))\n",
    "\n",
    "# E. Coli\n",
    "with open('E_coli.txt') as file:\n",
    "    e_coli_genome = file.read();\n",
    "print(\"Minimum values for difference between G and C in E. Coli genome: \", min_skew(e_coli_genome))\n"
   ]
  },
  {
   "cell_type": "code",
   "execution_count": 26,
   "metadata": {},
   "outputs": [
    {
     "name": "stdout",
     "output_type": "stream",
     "text": [
      "Maximum frequency: 2, for these 9-mers: ['AAGGATCCG', 'AGGATCCGG']\n"
     ]
    }
   ],
   "source": [
    "\"\"\"\n",
    "Solving the Minimum Skew Problem now provides us with an approximate location of ori at position 3923620 in E. coli. \n",
    "In an attempt to confirm this hypothesis, \n",
    "let’s look for a hidden message representing a potential DnaA box near this location. \n",
    "Solving the Frequent Words Problem in a window of length 500 starting at position 3923620 \n",
    "reveals no 9-mers (along with their reverse complements) that appear three or more times.\n",
    "(The maximum frequency for 9-mers is 2 for 'AAGGATCCG', and 'AGGATCCGG')\n",
    "\"\"\"\n",
    "## FROM BEFORE\n",
    "def frequent_words(genome, k):\n",
    "    words = []\n",
    "    freq = frequency_map(genome, k)\n",
    "    m = max(freq.values())\n",
    "    for key in freq:\n",
    "        # add each key to words whose frequency value is equal to m\n",
    "        if freq[key] == m:   \n",
    "            words.append(key)\n",
    "    return m, words\n",
    "\n",
    "def frequency_map(genome, k):\n",
    "    freq = {}\n",
    "    n = len(genome)\n",
    "    for i in range(n-k+1):\n",
    "        pattern = genome[i:i+k]\n",
    "        freq[pattern] = 0\n",
    "        # frequency map\n",
    "        for i in range(n-k+1):\n",
    "            if pattern == genome[i:i+k]:\n",
    "                freq[pattern] += 1\n",
    "    return freq\n",
    "\n",
    "k = 9 # looking for 9-mers\n",
    "init_position = 3923620\n",
    "window_length = 500\n",
    "final_position = init_position + window_length\n",
    "\n",
    "print(\"Maximum frequency: %d, for these 9-mers: %s\" % (frequent_words(e_coli_genome[init_position:final_position], k)))"
   ]
  },
  {
   "cell_type": "code",
   "execution_count": 38,
   "metadata": {},
   "outputs": [
    {
     "name": "stdout",
     "output_type": "stream",
     "text": [
      "Toy hamming distance example:  3\n",
      "Toy approx. pattern matching example:  [6, 7, 26, 27]\n",
      "Toy approx. pattern count example:  0\n"
     ]
    }
   ],
   "source": [
    "\"\"\"\n",
    "Before we give up, let’s examine the ori of Vibrio cholerae one more time to see if it provides us \n",
    "with any insights on how to alter our algorithm to find DnaA boxes in E. coli. \n",
    "You may have noticed that in addition to the three occurrences of ATGATCAAG \n",
    "and three occurrences of its reverse complement CTTGATCAT, \n",
    "the Vibrio cholerae ori contains additional occurrences of ATGATCAAC and CATGATCAT, \n",
    "which differ from ATGATCAAG and CTTGATCAT in only a single nucleotide.\n",
    "\n",
    "Finding eight approximate occurrences of our target 9-mer and its reverse complement in a short region is \n",
    "even more statistically surprising than finding the six exact occurrences of \n",
    "ATGATCAAG and its reverse complement CTTGATCAT that we stumbled upon in the beginning of our investigation. \n",
    "Furthermore, the discovery of these approximate 9-mers makes sense biologically, \n",
    "since DnaA can bind not only to “perfect” DnaA boxes but to their slight modifications as well.\n",
    "\"\"\"\n",
    "\n",
    "'''\n",
    "Position i in k-mers p and q is a mismatch if the symbols at position i of the two strings are not the same. \n",
    "The total number of mismatches between strings p and q is called the Hamming distance\n",
    "'''\n",
    "\n",
    "def hamming_distance(p, q):\n",
    "    # check strings of equal length:\n",
    "    if len(p) != len(q):\n",
    "        return \"ERROR: strings must be equal length\"\n",
    "    mismatch_count = 0\n",
    "    for i, c in enumerate(p):\n",
    "        if c != q[i]:\n",
    "            mismatch_count += 1\n",
    "    return mismatch_count\n",
    "\n",
    "print(\"Toy hamming distance example: \", hamming_distance(\"GGGCCGTTGGT\", \"GGACCGTTGAC\"))\n",
    "\n",
    "\n",
    "\n",
    "# Input:  Strings Pattern and Text along with an integer d\n",
    "# Output: A list containing all starting positions where Pattern appears\n",
    "# as a substring of Text with at most d mismatches\n",
    "\n",
    "def approximate_pattern_matching(text, pattern, d):\n",
    "    positions = [] # initializing list of positions\n",
    "    # your code here\n",
    "    for i in range(len(text)-len(pattern)+1):\n",
    "        if text[i:i+len(pattern)] == pattern:\n",
    "            positions.append(i)\n",
    "        elif hamming_distance(pattern, text[i:i+len(pattern)]) <= d:\n",
    "            positions.append(i)\n",
    "    return positions\n",
    "\n",
    "text = \"CGCCCGAATCCAGAACGCATTCCCATATTTCGGGACCACTGGCCTCCACGGTACGGACGTCAATCAAAT\"\n",
    "pattern = \"ATTCTGGA\"\n",
    "d = 3\n",
    "print(\"Toy approx. pattern matching example: \", approximate_pattern_matching(text, pattern, d))\n",
    "\n"
   ]
  },
  {
   "cell_type": "code",
   "execution_count": 4,
   "metadata": {},
   "outputs": [
    {
     "name": "stdout",
     "output_type": "stream",
     "text": [
      "Toy approx. pattern count example:  4\n"
     ]
    }
   ],
   "source": [
    "def hamming_distance(p, q):\n",
    "    # check strings of equal length:\n",
    "    if len(p) != len(q):\n",
    "        return \"ERROR: strings must be equal length\"\n",
    "    mismatch_count = 0\n",
    "    for i, c in enumerate(p):\n",
    "        if c != q[i]:\n",
    "            mismatch_count += 1\n",
    "    return mismatch_count\n",
    "\n",
    "# Input:  Strings Pattern and Text, and an integer d\n",
    "# Output: The number of times Pattern appears in Text with at most d mismatches\n",
    "\n",
    "def approximate_pattern_count(text, pattern, d):\n",
    "    count = 0 # initialize count variable\n",
    "    for i in range(len(text)-len(pattern)+1):\n",
    "        if text[i:i+len(pattern)] == pattern:\n",
    "            count += 1\n",
    "        elif hamming_distance(pattern, text[i:i+len(pattern)]) <= d:\n",
    "            count += 1\n",
    "    return count\n",
    "\n",
    "text = \"TTTAGAGCCTTCAGAGG\"\n",
    "pattern = \"GAGG\"\n",
    "d = 2\n",
    "print(\"Toy approx. pattern count example: \", approximate_pattern_count(text, pattern, d))"
   ]
  },
  {
   "cell_type": "code",
   "execution_count": 95,
   "metadata": {},
   "outputs": [
    {
     "name": "stdout",
     "output_type": "stream",
     "text": [
      "The highest frequency: 4; for the 9-mers: [('GGATCCTGG', 'CCAGGATCC'), ('AGCTGGGAT', 'ATCCCAGCT'), ('CTGGGATCA', 'TGATCCCAG'), ('GTTATCCAC', 'GTGGATAAC'), ('TTATCCACA', 'TGTGGATAA'), ('GATCCCAGC', 'GCTGGGATC')]\n",
      "\n",
      "The highest frequency: 4; for the 9-mers: [('GGATCCTGG', 'CCAGGATCC'), ('AGCTGGGAT', 'ATCCCAGCT'), ('CTGGGATCA', 'TGATCCCAG'), ('GTTATCCAC', 'GTGGATAAC'), ('TTATCCACA', 'TGTGGATAA'), ('GATCCCAGC', 'GCTGGGATC')]\n",
      "\n",
      "\n",
      "('TTATCCACA', 'TGTGGATAA')\n",
      "index  4\n"
     ]
    }
   ],
   "source": [
    "\"\"\"\n",
    "Identify the most frequent 9-mers (with 1 mismatch) \n",
    "within a window of length 500 starting at position 3923620 of the E. coli genome.\n",
    "\"\"\"\n",
    "\n",
    "def frequent_words(genome, k, d, n = 1):\n",
    "    words = []\n",
    "    freq = complementary_frequency(genome, k, d)\n",
    "    m = max(freq.values())\n",
    "    for key in freq:\n",
    "        if freq[key] == m:   \n",
    "            words.append(key)\n",
    "        if n == 2:\n",
    "            # add each key to words whose frequency value is equal to m or m - 1\n",
    "            if freq[key] == m-1:\n",
    "                words.append(key)\n",
    "    if n == 1:\n",
    "        return words, m\n",
    "    if n == 2:\n",
    "        return words, m, m-1\n",
    "    \n",
    "\n",
    "def complementary_frequency(genome, k, d):\n",
    "    comp_freq = {}\n",
    "    n = len(genome)\n",
    "    for i in range(n-k+1):\n",
    "        pattern = genome[i:i+k]\n",
    "        comp = reverse_complement(pattern)\n",
    "        comp_freq[(pattern, comp)] = 0\n",
    "        for i in range(n-k+1):\n",
    "            if pattern == genome[i:i+k] or comp == genome[i:i+k]:\n",
    "                comp_freq[(pattern, comp)] += 1\n",
    "            elif hamming_distance(pattern, genome[i:i+k]) <= d or hamming_distance(comp, genome[i:i+k]) <= d:\n",
    "                comp_freq[(pattern, comp)] += 1\n",
    "    \n",
    "    # Get rid of pattern/complement already accounted for\n",
    "    comp_freq = clean_comp_pairs(comp_freq)\n",
    "    \n",
    "    return comp_freq\n",
    "    \n",
    "\n",
    "def hamming_distance(p, q):\n",
    "    # check strings of equal length:\n",
    "    if len(p) != len(q):\n",
    "        return \"ERROR: strings must be equal length\"\n",
    "    mismatch_count = 0\n",
    "    for i, c in enumerate(p):\n",
    "        if c != q[i]:\n",
    "            mismatch_count += 1\n",
    "    return mismatch_count\n",
    "\n",
    "def clean_comp_pairs(comp_freq):\n",
    "    for tuple_key in list(comp_freq.keys()):\n",
    "        done_pattern = tuple_key[0]\n",
    "        for t_k in list(comp_freq.keys()):\n",
    "            if t_k[0] == reverse_complement(done_pattern) and t_k[1] == done_pattern:\n",
    "                del comp_freq[tuple_key]\n",
    "    return comp_freq\n",
    "\n",
    "def reverse_complement(DNA_pattern):   \n",
    "    DNA_pattern = reverse_bases(DNA_pattern) # reverse all letters in a string\n",
    "    DNA_pattern = complement_bases(DNA_pattern) # complement each letter in a string\n",
    "    return DNA_pattern\n",
    "\n",
    "def reverse_bases(DNA_pattern):\n",
    "    return DNA_pattern[::-1]\n",
    "\n",
    "def complement_bases(DNA_pattern):\n",
    "    basepairs = {\"A\":\"T\", \"G\":\"C\", \"T\":\"A\", \"C\":\"G\"}\n",
    "    complement = \"\"\n",
    "    for base in DNA_pattern:\n",
    "        complement += basepairs.get(base)\n",
    "    return complement\n",
    "\n",
    "\n",
    "def clean_genome(raw_genome):\n",
    "    return raw_genome.upper().replace(\" \", \"\")\n",
    "\n",
    "\n",
    "def printing_results(freq_words_output):\n",
    "    if len(freq_words_output) == 3:\n",
    "        mer_list, highest_freq, second_highest_freq = freq_words_output\n",
    "        print(\"Two highest frequencies: %d, %d; for these 9-mers: %s\" % (highest_freq, second_highest_freq, mer_list))\n",
    "    elif len(freq_words_output) == 2:\n",
    "        print(\"The highest frequency: %d; for the 9-mers: %s\" % (freq_words_output[1], freq_words_output[0]))\n",
    "\n",
    "\n",
    "k = 9 # looking for 9-mers\n",
    "d = 1\n",
    "#n = 2\n",
    "\n",
    "init_position = 3923620\n",
    "window_length = 500\n",
    "final_position = init_position + window_length\n",
    "\n",
    "with open('E_coli.txt') as file:\n",
    "    e_coli_genome = file.read();\n",
    "\n",
    "\n",
    "printing_results(frequent_words(e_coli_genome[init_position:final_position], k, d, n))\n",
    "\n",
    "    \n",
    "# checking toy example (same as e. coli  :p  ):\n",
    "print()\n",
    "raw_genome = \"aatgatgatgacgtcaaaaggatccggataaaac atggtgattgcctcgcataacgcggtatgaaaatggattgaagcccgggccgtggattctactcaactttgtcggcttgagaaagacctgggatcctgggtattaaaaagaagatctatttatttagagatctgttctattgtgatctcttattaggatcgcactgcccTGTGGATAAcaaggatccggcttttaagatcaacaacctggaaaggatcattaactgtgaatgatcggtgatcctggaccgtataagctgggatcagaatgaggggTTATACACAactcaaaaactgaacaacagttgttcTTTGGATAActaccggttgatccaagcttcctgacagagTTATCCACAgtagatcgcacgatctgtatacttatttgagtaaattaacccacgatcccagccattcttctgccggatcttccggaatgtcgtgatcaagaatgttgatcttcagtg\"\n",
    "given_genome = clean_genome(raw_genome)\n",
    "\n",
    "printing_results(frequent_words(given_genome, k, d, n))\n",
    "    \n",
    "# looking for TTATCCACA or its complement TGTGGATAA \n",
    "print()\n",
    "\n",
    "frequent_list = frequent_words(given_genome, k, d)[0]\n",
    "\n",
    "for e in frequent_list:\n",
    "    if 'TTATCCACA' in e or 'TGTGGATAA' in e:\n",
    "        print()\n",
    "        print(e)\n",
    "        print(\"index \", frequent_list.index(e))\n",
    "\n",
    "\n"
   ]
  },
  {
   "cell_type": "code",
   "execution_count": null,
   "metadata": {},
   "outputs": [],
   "source": []
  }
 ],
 "metadata": {
  "kernelspec": {
   "display_name": "Python 3",
   "language": "python",
   "name": "python3"
  },
  "language_info": {
   "codemirror_mode": {
    "name": "ipython",
    "version": 3
   },
   "file_extension": ".py",
   "mimetype": "text/x-python",
   "name": "python",
   "nbconvert_exporter": "python",
   "pygments_lexer": "ipython3",
   "version": "3.7.6"
  }
 },
 "nbformat": 4,
 "nbformat_minor": 4
}
